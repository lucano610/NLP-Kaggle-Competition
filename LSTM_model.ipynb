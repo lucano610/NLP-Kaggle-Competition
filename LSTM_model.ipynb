{
  "nbformat": 4,
  "nbformat_minor": 0,
  "metadata": {
    "colab": {
      "name": "LSTM_model.ipynb",
      "provenance": [],
      "collapsed_sections": []
    },
    "kernelspec": {
      "name": "python3",
      "display_name": "Python 3"
    },
    "language_info": {
      "name": "python"
    }
  },
  "cells": [
    {
      "cell_type": "code",
      "metadata": {
        "id": "jjZmiH7ioF-Z"
      },
      "source": [
        "pip install tensorflow\n"
      ],
      "execution_count": null,
      "outputs": []
    },
    {
      "cell_type": "code",
      "metadata": {
        "colab": {
          "base_uri": "https://localhost:8080/"
        },
        "id": "c6rIVSRRpJ0n",
        "outputId": "0f09c4d8-e8fc-421a-b2bd-cf360af64dec"
      },
      "source": [
        "from google.colab import drive\n",
        "drive.mount('/content/gdrive')"
      ],
      "execution_count": null,
      "outputs": [
        {
          "output_type": "stream",
          "text": [
            "Mounted at /content/gdrive\n"
          ],
          "name": "stdout"
        }
      ]
    },
    {
      "cell_type": "code",
      "metadata": {
        "colab": {
          "base_uri": "https://localhost:8080/"
        },
        "id": "vdO4Ukn-q0wn",
        "outputId": "604a5f1d-64fc-43b5-a086-3ce104053d84"
      },
      "source": [
        "# RNN model\n",
        "# possible source: https://zhuanlan.zhihu.com/p/31656392\n",
        "import pandas as pd\n",
        "import numpy as np\n",
        "import tensorflow as tf\n",
        "print(tf.__version__)\n",
        "from tensorflow import keras\n",
        "from tensorflow.keras import layers\n",
        "\n",
        "\n",
        "from keras.datasets import imdb\n",
        "from keras.layers import GRU, LSTM, CuDNNGRU, CuDNNLSTM, Activation, Input, concatenate, Dense\n",
        "from keras.preprocessing.sequence import pad_sequences\n",
        "from keras.models import Sequential, Model\n",
        "from keras.layers.embeddings import Embedding\n",
        "from keras.initializers import Constant\n",
        "\n",
        "maxlen = 207\n",
        "\n",
        "X_test_pre = np.load('/test_pre_sentences.npy')\n",
        "X_test_hyp = np.load('/test_hyp_sentences.npy')\n",
        "y_test = np.load('/test_label.npy')\n",
        "y_test = y_test[np.newaxis].T\n",
        "\n",
        "X_train_pre = np.load('/training_pre_sentences.npy')\n",
        "X_train_hyp = np.load('/training_hyp_sentences.npy')\n",
        "y_train = np.load('/training_label.npy')\n",
        "y_train = y_train[np.newaxis].T\n",
        "\n",
        "# pad the sequences with zeros \n",
        "# padding parameter is set to 'post' => 0's are appended to end of sequences\n",
        "X_train_pre = pad_sequences(X_train_pre, maxlen = maxlen, padding = 'post')\n",
        "X_train_hyp = pad_sequences(X_train_hyp, maxlen = maxlen, padding = 'post')\n",
        "X_test_pre = pad_sequences(X_test_pre, maxlen = maxlen, padding = 'post')\n"
      ],
      "execution_count": null,
      "outputs": [
        {
          "output_type": "stream",
          "text": [
            "2.5.0\n",
            "(2945, 207)\n",
            "(2945, 1)\n",
            "(6870, 207)\n",
            "(6870, 207)\n",
            "(6870, 1)\n",
            "(2945, 207)\n"
          ],
          "name": "stdout"
        }
      ]
    },
    {
      "cell_type": "markdown",
      "metadata": {
        "id": "AVbe6-PkD8EK"
      },
      "source": [
        "# New Section"
      ]
    },
    {
      "cell_type": "code",
      "metadata": {
        "colab": {
          "base_uri": "https://localhost:8080/"
        },
        "id": "nDhy5UR5vfJd",
        "outputId": "dee9994e-1025-4b6a-d0bb-d7e9f2a8fd73"
      },
      "source": [
        "dim_2 = X_train_pre.shape[1]\n",
        "\n",
        "# convert numpy arrays into tensors\n",
        "input_A = Input(shape = (dim_2, ))\n",
        "input_B = Input(shape = (dim_2, ))\n",
        "\n",
        "# embeddings\n",
        "embedding = Embedding(491, 100, trainable=False)\n",
        "\n",
        "# for input_A\n",
        "embedded_A = embedding(input_A)\n",
        "\n",
        "# for input_B\n",
        "embedded_B = embedding(input_B)\n",
        "\n",
        "# pre\n",
        "layer_1_pre = LSTM(50, return_sequences = True)(embedded_A)\n",
        "dense_4 =Dense(25)(layer_1_pre)\n",
        "model_1 = LSTM(20, return_sequences = False)(dense_4)\n",
        "\n",
        "\n",
        "# hyp\n",
        "layer_1_hyp = LSTM(50, return_sequences = True)(embedded_B)\n",
        "dense_3 = Dense(25)(layer_1_hyp)\n",
        "model_2 = LSTM(20, return_sequences = False)(dense_3)\n",
        "\n",
        "# combine output of model for each sentence of the pairing\n",
        "combined = concatenate([model_1, model_2]) # dim  from 20 -> 40\n",
        "# Dense layers\n",
        "dense_1 = Dense(25)(combined)\n",
        "act_1 = Activation('sigmoid')(dense_1)\n",
        "output = Dense(1)(act_1)\n",
        "z = Activation('sigmoid')(output)\n",
        "print(z.shape)\n",
        "\n",
        "model = Model(inputs=[input_A, input_B], outputs=z)\n",
        "\n",
        "model.compile(loss = 'binary_crossentropy', optimizer = 'adam', metrics = ['accuracy'])"
      ],
      "execution_count": null,
      "outputs": [
        {
          "output_type": "stream",
          "text": [
            "207\n",
            "(None, 207)\n",
            "(None, 207)\n",
            "embedded pre (None, 207, 100)\n",
            "embedded pre (None, 207, 100)\n",
            "(None, 1)\n"
          ],
          "name": "stdout"
        }
      ]
    },
    {
      "cell_type": "code",
      "metadata": {
        "id": "nKqDt2FbuNa-"
      },
      "source": [
        ""
      ],
      "execution_count": null,
      "outputs": []
    },
    {
      "cell_type": "code",
      "metadata": {
        "colab": {
          "base_uri": "https://localhost:8080/"
        },
        "id": "XEY2Z7gayTyo",
        "outputId": "81b4ef52-601c-4d3c-bb2d-3a238f5659db"
      },
      "source": [
        "%%time\n",
        "history = model.fit([X_train_pre, X_train_hyp], y_train, batch_size = 100, epochs = 100, verbose = 1)"
      ],
      "execution_count": null,
      "outputs": [
        {
          "output_type": "stream",
          "text": [
            "Epoch 1/100\n",
            "69/69 [==============================] - 31s 444ms/step - loss: 0.1059 - accuracy: 0.3153\n",
            "Epoch 2/100\n",
            "69/69 [==============================] - 31s 444ms/step - loss: 0.1053 - accuracy: 0.3153\n",
            "Epoch 3/100\n",
            "69/69 [==============================] - 31s 444ms/step - loss: 0.1055 - accuracy: 0.3153\n",
            "Epoch 4/100\n",
            "69/69 [==============================] - 31s 444ms/step - loss: 0.1054 - accuracy: 0.3153\n",
            "Epoch 5/100\n",
            "69/69 [==============================] - 31s 447ms/step - loss: 0.1060 - accuracy: 0.3153\n",
            "Epoch 6/100\n",
            "69/69 [==============================] - 31s 445ms/step - loss: 0.1059 - accuracy: 0.3153\n",
            "Epoch 7/100\n",
            "69/69 [==============================] - 31s 443ms/step - loss: 0.1060 - accuracy: 0.3153\n",
            "Epoch 8/100\n",
            "69/69 [==============================] - 31s 443ms/step - loss: 0.1058 - accuracy: 0.3153\n",
            "Epoch 9/100\n",
            "69/69 [==============================] - 31s 445ms/step - loss: 0.1055 - accuracy: 0.3153\n",
            "Epoch 10/100\n",
            "69/69 [==============================] - 31s 444ms/step - loss: 0.1054 - accuracy: 0.3153\n",
            "Epoch 11/100\n",
            "69/69 [==============================] - 31s 445ms/step - loss: 0.1053 - accuracy: 0.3153\n",
            "Epoch 12/100\n",
            "69/69 [==============================] - 31s 444ms/step - loss: 0.1058 - accuracy: 0.3153\n",
            "Epoch 13/100\n",
            "69/69 [==============================] - 31s 444ms/step - loss: 0.1054 - accuracy: 0.3153\n",
            "Epoch 14/100\n",
            "69/69 [==============================] - 31s 445ms/step - loss: 0.1055 - accuracy: 0.3153\n",
            "Epoch 15/100\n",
            "69/69 [==============================] - 31s 447ms/step - loss: 0.1059 - accuracy: 0.3153\n",
            "Epoch 16/100\n",
            "69/69 [==============================] - 31s 452ms/step - loss: 0.1055 - accuracy: 0.3153\n",
            "Epoch 17/100\n",
            "69/69 [==============================] - 31s 454ms/step - loss: 0.1059 - accuracy: 0.3153\n",
            "Epoch 18/100\n",
            "69/69 [==============================] - 31s 450ms/step - loss: 0.1058 - accuracy: 0.3153\n",
            "Epoch 19/100\n",
            "69/69 [==============================] - 31s 444ms/step - loss: 0.1057 - accuracy: 0.3153\n",
            "Epoch 20/100\n",
            "69/69 [==============================] - 31s 450ms/step - loss: 0.1056 - accuracy: 0.3153\n",
            "Epoch 21/100\n",
            "69/69 [==============================] - 31s 453ms/step - loss: 0.1055 - accuracy: 0.3153\n",
            "Epoch 22/100\n",
            "69/69 [==============================] - 31s 452ms/step - loss: 0.1055 - accuracy: 0.3153\n",
            "Epoch 23/100\n",
            "69/69 [==============================] - 31s 448ms/step - loss: 0.1056 - accuracy: 0.3153\n",
            "Epoch 24/100\n",
            "69/69 [==============================] - 31s 445ms/step - loss: 0.1062 - accuracy: 0.3153\n",
            "Epoch 25/100\n",
            "69/69 [==============================] - 31s 451ms/step - loss: 0.1057 - accuracy: 0.3153\n",
            "Epoch 26/100\n",
            "69/69 [==============================] - 31s 453ms/step - loss: 0.1053 - accuracy: 0.3153\n",
            "Epoch 27/100\n",
            "69/69 [==============================] - 31s 453ms/step - loss: 0.1066 - accuracy: 0.3153\n",
            "Epoch 28/100\n",
            "69/69 [==============================] - 31s 453ms/step - loss: 0.1062 - accuracy: 0.3153\n",
            "Epoch 29/100\n",
            "69/69 [==============================] - 31s 448ms/step - loss: 0.1056 - accuracy: 0.3153\n",
            "Epoch 30/100\n",
            "69/69 [==============================] - 31s 452ms/step - loss: 0.1058 - accuracy: 0.3153\n",
            "Epoch 31/100\n",
            "69/69 [==============================] - 31s 448ms/step - loss: 0.1055 - accuracy: 0.3153\n",
            "Epoch 32/100\n",
            "69/69 [==============================] - 31s 449ms/step - loss: 0.1053 - accuracy: 0.3153\n",
            "Epoch 33/100\n",
            "69/69 [==============================] - 31s 446ms/step - loss: 0.1055 - accuracy: 0.3153\n",
            "Epoch 34/100\n",
            "69/69 [==============================] - 31s 445ms/step - loss: 0.1055 - accuracy: 0.3153\n",
            "Epoch 35/100\n",
            "69/69 [==============================] - 31s 445ms/step - loss: 0.1057 - accuracy: 0.3153\n",
            "Epoch 36/100\n",
            "69/69 [==============================] - 31s 443ms/step - loss: 0.1056 - accuracy: 0.3153\n",
            "Epoch 37/100\n",
            "69/69 [==============================] - 31s 446ms/step - loss: 0.1057 - accuracy: 0.3153\n",
            "Epoch 38/100\n",
            "69/69 [==============================] - 31s 444ms/step - loss: 0.1061 - accuracy: 0.3153\n",
            "Epoch 39/100\n",
            "69/69 [==============================] - 31s 445ms/step - loss: 0.1058 - accuracy: 0.3153\n",
            "Epoch 40/100\n",
            "69/69 [==============================] - 31s 450ms/step - loss: 0.1056 - accuracy: 0.3153\n",
            "Epoch 41/100\n",
            "69/69 [==============================] - 31s 446ms/step - loss: 0.1054 - accuracy: 0.3153\n",
            "Epoch 42/100\n",
            "69/69 [==============================] - 31s 445ms/step - loss: 0.1054 - accuracy: 0.3153\n",
            "Epoch 43/100\n",
            "69/69 [==============================] - 31s 454ms/step - loss: 0.1053 - accuracy: 0.3153\n",
            "Epoch 44/100\n",
            "69/69 [==============================] - 31s 452ms/step - loss: 0.1059 - accuracy: 0.3153\n",
            "Epoch 45/100\n",
            "69/69 [==============================] - 31s 446ms/step - loss: 0.1059 - accuracy: 0.3153\n",
            "Epoch 46/100\n",
            "69/69 [==============================] - 31s 445ms/step - loss: 0.1058 - accuracy: 0.3153\n",
            "Epoch 47/100\n",
            "69/69 [==============================] - 31s 446ms/step - loss: 0.1059 - accuracy: 0.3153\n",
            "Epoch 48/100\n",
            "69/69 [==============================] - 31s 447ms/step - loss: 0.1053 - accuracy: 0.3153\n",
            "Epoch 49/100\n",
            "69/69 [==============================] - 31s 447ms/step - loss: 0.1056 - accuracy: 0.3153\n",
            "Epoch 50/100\n",
            "69/69 [==============================] - 31s 448ms/step - loss: 0.1056 - accuracy: 0.3153\n",
            "Epoch 51/100\n",
            "69/69 [==============================] - 31s 445ms/step - loss: 0.1058 - accuracy: 0.3153\n",
            "Epoch 52/100\n",
            "69/69 [==============================] - 31s 445ms/step - loss: 0.1056 - accuracy: 0.3153\n",
            "Epoch 53/100\n",
            "69/69 [==============================] - 31s 443ms/step - loss: 0.1061 - accuracy: 0.3153\n",
            "Epoch 54/100\n",
            "69/69 [==============================] - 31s 443ms/step - loss: 0.1056 - accuracy: 0.3153\n",
            "Epoch 55/100\n",
            "69/69 [==============================] - 31s 446ms/step - loss: 0.1057 - accuracy: 0.3153\n",
            "Epoch 56/100\n",
            "69/69 [==============================] - 31s 443ms/step - loss: 0.1059 - accuracy: 0.3153\n",
            "Epoch 57/100\n",
            "69/69 [==============================] - 31s 446ms/step - loss: 0.1063 - accuracy: 0.3153\n",
            "Epoch 58/100\n",
            "69/69 [==============================] - 31s 450ms/step - loss: 0.1058 - accuracy: 0.3153\n",
            "Epoch 59/100\n",
            "69/69 [==============================] - 31s 446ms/step - loss: 0.1056 - accuracy: 0.3153\n",
            "Epoch 60/100\n",
            "69/69 [==============================] - 31s 446ms/step - loss: 0.1054 - accuracy: 0.3153\n",
            "Epoch 61/100\n",
            "69/69 [==============================] - 31s 445ms/step - loss: 0.1055 - accuracy: 0.3153\n",
            "Epoch 62/100\n",
            "69/69 [==============================] - 31s 444ms/step - loss: 0.1055 - accuracy: 0.3153\n",
            "Epoch 63/100\n",
            "69/69 [==============================] - 31s 446ms/step - loss: 0.1058 - accuracy: 0.3153\n",
            "Epoch 64/100\n",
            "69/69 [==============================] - 31s 450ms/step - loss: 0.1058 - accuracy: 0.3153\n",
            "Epoch 65/100\n",
            "69/69 [==============================] - 31s 450ms/step - loss: 0.1058 - accuracy: 0.3153\n",
            "Epoch 66/100\n",
            "69/69 [==============================] - 31s 450ms/step - loss: 0.1069 - accuracy: 0.3153\n",
            "Epoch 67/100\n",
            "69/69 [==============================] - 31s 453ms/step - loss: 0.1054 - accuracy: 0.3153\n",
            "Epoch 68/100\n",
            "69/69 [==============================] - 31s 453ms/step - loss: 0.1058 - accuracy: 0.3153\n",
            "Epoch 69/100\n",
            "69/69 [==============================] - 31s 451ms/step - loss: 0.1056 - accuracy: 0.3153\n",
            "Epoch 70/100\n",
            "69/69 [==============================] - 31s 450ms/step - loss: 0.1058 - accuracy: 0.3153\n",
            "Epoch 71/100\n",
            "69/69 [==============================] - 31s 447ms/step - loss: 0.1056 - accuracy: 0.3153\n",
            "Epoch 72/100\n",
            "69/69 [==============================] - 31s 449ms/step - loss: 0.1055 - accuracy: 0.3153\n",
            "Epoch 73/100\n",
            "69/69 [==============================] - 31s 450ms/step - loss: 0.1054 - accuracy: 0.3153\n",
            "Epoch 74/100\n",
            "69/69 [==============================] - 31s 446ms/step - loss: 0.1055 - accuracy: 0.3153\n",
            "Epoch 75/100\n",
            "69/69 [==============================] - 31s 449ms/step - loss: 0.1054 - accuracy: 0.3153\n",
            "Epoch 76/100\n",
            "69/69 [==============================] - 31s 450ms/step - loss: 0.1054 - accuracy: 0.3153\n",
            "Epoch 77/100\n",
            "69/69 [==============================] - 31s 451ms/step - loss: 0.1056 - accuracy: 0.3153\n",
            "Epoch 78/100\n",
            "69/69 [==============================] - 31s 447ms/step - loss: 0.1055 - accuracy: 0.3153\n",
            "Epoch 79/100\n",
            "69/69 [==============================] - 31s 452ms/step - loss: 0.1062 - accuracy: 0.3153\n",
            "Epoch 80/100\n",
            "69/69 [==============================] - 31s 452ms/step - loss: 0.1056 - accuracy: 0.3153\n",
            "Epoch 81/100\n",
            "69/69 [==============================] - 31s 455ms/step - loss: 0.1054 - accuracy: 0.3153\n",
            "Epoch 82/100\n",
            "69/69 [==============================] - 31s 454ms/step - loss: 0.1054 - accuracy: 0.3153\n",
            "Epoch 83/100\n",
            "69/69 [==============================] - 31s 454ms/step - loss: 0.1058 - accuracy: 0.3153\n",
            "Epoch 84/100\n",
            "69/69 [==============================] - 31s 447ms/step - loss: 0.1055 - accuracy: 0.3153\n",
            "Epoch 85/100\n",
            "69/69 [==============================] - 31s 449ms/step - loss: 0.1057 - accuracy: 0.3153\n",
            "Epoch 86/100\n",
            "69/69 [==============================] - 31s 454ms/step - loss: 0.1057 - accuracy: 0.3153\n",
            "Epoch 87/100\n",
            "69/69 [==============================] - 31s 451ms/step - loss: 0.1060 - accuracy: 0.3153\n",
            "Epoch 88/100\n",
            "69/69 [==============================] - 31s 448ms/step - loss: 0.1058 - accuracy: 0.3153\n",
            "Epoch 89/100\n",
            "69/69 [==============================] - 31s 450ms/step - loss: 0.1057 - accuracy: 0.3153\n",
            "Epoch 90/100\n",
            "69/69 [==============================] - 31s 453ms/step - loss: 0.1056 - accuracy: 0.3153\n",
            "Epoch 91/100\n",
            "69/69 [==============================] - 31s 451ms/step - loss: 0.1056 - accuracy: 0.3153\n",
            "Epoch 92/100\n",
            "69/69 [==============================] - 31s 452ms/step - loss: 0.1056 - accuracy: 0.3153\n",
            "Epoch 93/100\n",
            "69/69 [==============================] - 31s 449ms/step - loss: 0.1054 - accuracy: 0.3153\n",
            "Epoch 94/100\n",
            "69/69 [==============================] - 32s 457ms/step - loss: 0.1056 - accuracy: 0.3153\n",
            "Epoch 95/100\n",
            "69/69 [==============================] - 31s 449ms/step - loss: 0.1056 - accuracy: 0.3153\n",
            "Epoch 96/100\n",
            "69/69 [==============================] - 31s 448ms/step - loss: 0.1057 - accuracy: 0.3153\n",
            "Epoch 97/100\n",
            "69/69 [==============================] - 31s 449ms/step - loss: 0.1057 - accuracy: 0.3153\n",
            "Epoch 98/100\n",
            "69/69 [==============================] - 31s 449ms/step - loss: 0.1061 - accuracy: 0.3153\n",
            "Epoch 99/100\n",
            "69/69 [==============================] - 31s 448ms/step - loss: 0.1058 - accuracy: 0.3153\n",
            "Epoch 100/100\n",
            "69/69 [==============================] - 31s 447ms/step - loss: 0.1053 - accuracy: 0.3153\n",
            "CPU times: user 1h 34min 16s, sys: 3min 57s, total: 1h 38min 13s\n",
            "Wall time: 52min 21s\n"
          ],
          "name": "stdout"
        }
      ]
    },
    {
      "cell_type": "code",
      "metadata": {
        "colab": {
          "base_uri": "https://localhost:8080/"
        },
        "id": "LFgxbbEaL5X9",
        "outputId": "4acfb238-b8b3-4f5d-fdb4-3b6d8ee2a625"
      },
      "source": [
        "# accuracy test\n",
        "scores = model.evaluate([X_test_pre,X_test_hyp], y_test, verbose=1)\n",
        "print(scores)\n",
        "print(\"Accuracy: %.2f%%\" % (scores[1]*100))"
      ],
      "execution_count": null,
      "outputs": [
        {
          "output_type": "stream",
          "text": [
            "93/93 [==============================] - 6s 64ms/step - loss: 0.0219 - accuracy: 1.0000\n",
            "[0.021909447386860847, 1.0]\n",
            "Accuracy: 100.00%\n"
          ],
          "name": "stdout"
        }
      ]
    },
    {
      "cell_type": "code",
      "metadata": {
        "colab": {
          "base_uri": "https://localhost:8080/",
          "height": 312
        },
        "id": "EIYo4RqS1tjP",
        "outputId": "bc65a6c9-46b0-4710-a299-8b36db98b697"
      },
      "source": [
        "import matplotlib.pyplot as plt\n",
        "\n",
        "plt.plot(history.history['loss'], label = 'loss')\n",
        "plt.plot(history.history['accuracy'], label = 'accuracy')\n",
        "plt.xlabel('Epochs')\n",
        "plt.ylabel('Percent %')\n",
        "plt.title('Loss and Accuracy Per Epoch')"
      ],
      "execution_count": null,
      "outputs": [
        {
          "output_type": "execute_result",
          "data": {
            "text/plain": [
              "Text(0.5, 1.0, 'Loss and Accuracy Per Epoch')"
            ]
          },
          "metadata": {
            "tags": []
          },
          "execution_count": 38
        },
        {
          "output_type": "display_data",
          "data": {
            "image/png": "[encoded data removed]",
            "text/plain": [
              "<Figure size 432x288 with 1 Axes>"
            ]
          },
          "metadata": {
            "tags": [],
            "needs_background": "light"
          }
        }
      ]
    },
    {
      "cell_type": "code",
      "metadata": {
        "colab": {
          "base_uri": "https://localhost:8080/",
          "height": 333
        },
        "id": "NRpiNAWDQM9Q",
        "outputId": "45f54d6e-1d1a-4976-8e88-87cd868505e4"
      },
      "source": [
        "import matplotlib.pyplot as plt\n",
        "plt.hist(y_test, bins=4)"
      ],
      "execution_count": null,
      "outputs": [
        {
          "output_type": "stream",
          "text": [
            "(6870, 207)\n"
          ],
          "name": "stdout"
        },
        {
          "output_type": "execute_result",
          "data": {
            "text/plain": [
              "(array([   0.,    0., 2945.,    0.]),\n",
              " array([0.5 , 0.75, 1.  , 1.25, 1.5 ]),\n",
              " <a list of 4 Patch objects>)"
            ]
          },
          "metadata": {
            "tags": []
          },
          "execution_count": 34
        },
        {
          "output_type": "display_data",
          "data": {
            "image/png": "[encoded data removed]",
            "text/plain": [
              "<Figure size 432x288 with 1 Axes>"
            ]
          },
          "metadata": {
            "tags": [],
            "needs_background": "light"
          }
        }
      ]
    }
  ]
}